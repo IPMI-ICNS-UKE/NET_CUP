{
 "cells": [
  {
   "cell_type": "markdown",
   "metadata": {},
   "source": [
    "Notebook corresponding to section 2.3.2 on the UKE dataset."
   ]
  },
  {
   "cell_type": "markdown",
   "metadata": {},
   "source": [
    "Imports"
   ]
  },
  {
   "cell_type": "code",
   "execution_count": null,
   "metadata": {},
   "outputs": [],
   "source": [
    "# Local dependencies\n",
    "from NET_CUP.data_loading import data_tree, xyp, feature_type\n",
    "import NET_CUP.datasources_config as datasources_config\n",
    "\n",
    "# Other dependencies\n",
    "import numpy as np\n",
    "import pandas as pd\n",
    "from sklearn.metrics import confusion_matrix\n",
    "from sklearn.model_selection import train_test_split\n",
    "from sklearn.decomposition import PCA\n",
    "from sklearn.svm import SVC\n",
    "from sklearn.linear_model import LogisticRegression\n",
    "from tqdm import tqdm\n",
    "import plotly.graph_objects as go\n",
    "import plotly.subplots as sp"
   ]
  },
  {
   "cell_type": "markdown",
   "metadata": {},
   "source": [
    "Functions"
   ]
  },
  {
   "cell_type": "code",
   "execution_count": 33,
   "metadata": {},
   "outputs": [],
   "source": [
    "def get_thresholds(df: pd.DataFrame):\n",
    "    \"\"\"\n",
    "    Given df returns lists with optimal pancreas/intestine thresholds for all possible others_unsure values\n",
    "    :param df: Columns y_true, Sum SVM distances\n",
    "    :return:\n",
    "    \"\"\"\n",
    "    inf = float('inf')\n",
    "    others_distances = df.loc[df['y_true'] == 2, 'sum_patch_distances'].to_list()\n",
    "    others_distances.sort()\n",
    "    pi_distances = df.loc[df['y_true'] != 2, 'sum_patch_distances'].to_numpy()\n",
    "\n",
    "    thresholds = {}\n",
    "    thresholds[0.0] = (0.0, 0.0, 0.0)\n",
    "    n_others = len(others_distances)\n",
    "    n_pi = len(pi_distances)\n",
    "    for i in range(n_others):\n",
    "        for j in range(i, n_others):\n",
    "            left_threshold = others_distances[i] - 0.0000001\n",
    "            right_threshold = others_distances[j] + 0.0000001\n",
    "\n",
    "            others_unsure = (j - i + 1) / n_others\n",
    "            pi_unsure = np.count_nonzero((pi_distances > left_threshold) & (pi_distances < right_threshold)) / n_pi\n",
    "\n",
    "            if thresholds.get(others_unsure, (inf, inf, inf))[0] == pi_unsure:\n",
    "                current_threshold_sum = abs(\n",
    "                    thresholds.get(others_unsure, (inf, inf, inf))[1] + thresholds.get(others_unsure, (inf, inf, inf))[\n",
    "                        2])\n",
    "                new_threshold_sum = abs(left_threshold + right_threshold)\n",
    "                if new_threshold_sum < current_threshold_sum:\n",
    "                    thresholds[others_unsure] = (pi_unsure, left_threshold, right_threshold)\n",
    "            elif thresholds.get(others_unsure, (inf, inf, inf))[0] > pi_unsure:\n",
    "                thresholds[others_unsure] = (pi_unsure, left_threshold, right_threshold)\n",
    "    return thresholds\n",
    "\n",
    "\n",
    "def get_predictions(y_pred, svm_distance_sum, thresholds):\n",
    "    predictions = []\n",
    "    for value in thresholds.values():\n",
    "        if value[1] < svm_distance_sum < value[2]:\n",
    "            predictions.append(2)\n",
    "        else:\n",
    "            predictions.append(y_pred)\n",
    "    return np.array(predictions)"
   ]
  },
  {
   "cell_type": "markdown",
   "metadata": {},
   "source": [
    "Settings"
   ]
  },
  {
   "cell_type": "code",
   "execution_count": 34,
   "metadata": {},
   "outputs": [],
   "source": [
    "# Adjust these settings\n",
    "feature_type = feature_type.FeatureType.RETCCL\n",
    "classifier = SVC()\n",
    "\n",
    "# Keep these settings\n",
    "pca = PCA(0.95)\n",
    "patches_per_patient = 100\n",
    "patch_size = 4096\n",
    "border_patches = True"
   ]
  },
  {
   "cell_type": "markdown",
   "metadata": {},
   "source": [
    "Load data"
   ]
  },
  {
   "cell_type": "code",
   "execution_count": 35,
   "metadata": {},
   "outputs": [],
   "source": [
    "data = data_tree.create_tree(datasources_config.PATIENTS_PATH,\n",
    "                             datasources_config.ENUMBER_PATH)\n",
    "data_tree.drop_slides_without_extracted_features(data, feature_type, datasources_config.UKE_DATASET_DIR)\n",
    "\n",
    "pancreas_patients = data_tree.get_patients(data, 'p')\n",
    "intestine_patients = data_tree.get_patients(data, 'i')\n",
    "others_patients = data_tree.get_patients(data, 'o')\n",
    "\n",
    "all_patients = pancreas_patients + intestine_patients + others_patients"
   ]
  },
  {
   "cell_type": "markdown",
   "metadata": {},
   "source": [
    "Training and testing"
   ]
  },
  {
   "cell_type": "code",
   "execution_count": 36,
   "metadata": {},
   "outputs": [
    {
     "name": "stderr",
     "output_type": "stream",
     "text": [
      "99it [19:27, 11.79s/it]\n"
     ]
    }
   ],
   "source": [
    "y_true_patient_level_complete = np.empty((len(all_patients)), dtype=int)\n",
    "# Each row corresponds to one patient and contains the predictions for the different confidence thresholds\n",
    "y_pred_patient_level_complete = np.empty((len(all_patients), len(others_patients) + 1), dtype=int) \n",
    "\n",
    "for i, loo_patient in tqdm(enumerate(all_patients)):\n",
    "    # Remove the selected LOO patient, the remaining patients are used for training\n",
    "    if loo_patient.origin.value == 0:\n",
    "        pancreas_patients.remove(loo_patient)\n",
    "    elif loo_patient.origin.value == 1:\n",
    "        intestine_patients.remove(loo_patient)\n",
    "    elif loo_patient.origin.value == 2:\n",
    "        others_patients.remove(loo_patient)\n",
    "\n",
    "    # svm_patients are used to train the SVM\n",
    "    # dist_patients are used for calculating the patient level sum of patch distances used for determining the thresholds\n",
    "    svm_patients, dist_pi_patients = train_test_split(pancreas_patients + intestine_patients, \n",
    "                                                      train_size=0.6,\n",
    "                                                      stratify=xyp.get_patient_level_y(pancreas_patients + intestine_patients))\n",
    "    dist_patients = dist_pi_patients + others_patients\n",
    "\n",
    "    # Train the patch level SVM\n",
    "    X_svm_patch_level, y_svm_patch_level, _ = xyp.get_patch_level_Xyp_complete(svm_patients, patches_per_patient, feature_type, patch_size, border_patches, datasources_config.UKE_DATASET_DIR)\n",
    "    X_svm_patch_level = pca.fit_transform(X_svm_patch_level)\n",
    "    classifier.fit(X_svm_patch_level, y_svm_patch_level)\n",
    "\n",
    "    # Calculate the sum of patch distances for every patient in dist_patients\n",
    "    sum_patch_distances_complete = []\n",
    "    y_dist_true_patient_level_complete = []\n",
    "    for dist_patient in dist_patients:\n",
    "        X_dist_patch_level, _, _ = xyp.get_patch_level_Xyp_complete([dist_patient], patches_per_patient, feature_type, patch_size, border_patches, datasources_config.UKE_DATASET_DIR)\n",
    "\n",
    "        y_dist_true_patient_level_complete.append(dist_patient.origin.value)\n",
    "\n",
    "        sum_patch_distances = sum(classifier.decision_function(pca.transform(X_dist_patch_level)))\n",
    "        sum_patch_distances_complete.append(sum_patch_distances)\n",
    "    \n",
    "    # Determine thresholds based on the calculated sum of patch distances for every patient\n",
    "    df = pd.DataFrame({'y_true': y_dist_true_patient_level_complete, 'sum_patch_distances': sum_patch_distances_complete})\n",
    "    thresholds = get_thresholds(df)\n",
    "\n",
    "    # Classify LOO patient depending on the thresholds\n",
    "    X_test_patch_level, _, _ = xyp.get_patch_level_Xyp_complete([loo_patient], patches_per_patient, feature_type, patch_size, border_patches, datasources_config.UKE_DATASET_DIR)\n",
    "    y_pred_patient_level = np.bincount(classifier.predict(pca.transform(X_test_patch_level)).astype(int)).argmax()\n",
    "    distance = sum(classifier.decision_function(pca.transform(X_test_patch_level)))\n",
    "    preds = list(get_predictions(y_pred_patient_level, distance, thresholds))\n",
    "    if loo_patient.origin.value == 2:\n",
    "        preds = preds[:1] + [preds[1]] + preds[1:]\n",
    "\n",
    "    y_true_patient_level_complete[i] = loo_patient.origin.value\n",
    "    y_pred_patient_level_complete[i, :] = np.array(preds)\n",
    "\n",
    "    # Add the selected LOO patient to the correct list again\n",
    "    if loo_patient.origin.value == 0:\n",
    "        pancreas_patients.append(loo_patient)\n",
    "    elif loo_patient.origin.value == 1:\n",
    "        intestine_patients.append(loo_patient)\n",
    "    elif loo_patient.origin.value == 2:\n",
    "        others_patients.append(loo_patient)\n"
   ]
  },
  {
   "cell_type": "markdown",
   "metadata": {},
   "source": [
    "Visualization"
   ]
  },
  {
   "cell_type": "code",
   "execution_count": null,
   "metadata": {},
   "outputs": [
    {
     "data": {
      "application/vnd.plotly.v1+json": {
       "config": {
        "plotlyServerURL": "https://plot.ly"
       },
       "data": [
        {
         "legendgroup": "pancreas",
         "legendgrouptitle": {
          "text": "Proportion of \"pancreas\""
         },
         "line": {
          "color": "#6C8EBF",
          "dash": "solid"
         },
         "mode": "lines",
         "name": "Identified as \"pancreas\"",
         "type": "scatter",
         "x": [
          0,
          0.125,
          0.25,
          0.375,
          0.5,
          0.625,
          0.75,
          0.875,
          1
         ],
         "xaxis": "x",
         "y": [
          0.875,
          0.875,
          0.8,
          0.725,
          0.65,
          0.575,
          0.45,
          0.425,
          0.175
         ],
         "yaxis": "y"
        },
        {
         "legendgroup": "pancreas",
         "line": {
          "color": "#6C8EBF",
          "dash": "dash"
         },
         "mode": "lines",
         "name": "Misclassified as \"small intestine\"",
         "type": "scatter",
         "x": [
          0,
          0.125,
          0.25,
          0.375,
          0.5,
          0.625,
          0.75,
          0.875,
          1
         ],
         "xaxis": "x",
         "y": [
          0.125,
          0.125,
          0.125,
          0.125,
          0.125,
          0.125,
          0.125,
          0.125,
          0.125
         ],
         "yaxis": "y"
        },
        {
         "legendgroup": "pancreas",
         "line": {
          "color": "#6C8EBF",
          "dash": "dashdot"
         },
         "mode": "lines",
         "name": "Labeled as \"unsure\"",
         "type": "scatter",
         "x": [
          0,
          0.125,
          0.25,
          0.375,
          0.5,
          0.625,
          0.75,
          0.875,
          1
         ],
         "xaxis": "x",
         "y": [
          0,
          0,
          0.075,
          0.15,
          0.225,
          0.3,
          0.425,
          0.45,
          0.7
         ],
         "yaxis": "y"
        },
        {
         "legendgroup": "si",
         "legendgrouptitle": {
          "text": "Proportion of \"small intestine\""
         },
         "line": {
          "color": "#D79B01",
          "dash": "solid"
         },
         "mode": "lines",
         "name": "Identified as \"small intestine\"",
         "type": "scatter",
         "x": [
          0,
          0.125,
          0.25,
          0.375,
          0.5,
          0.625,
          0.75,
          0.875,
          1
         ],
         "xaxis": "x2",
         "y": [
          0.9215686274509803,
          0.9215686274509803,
          0.9215686274509803,
          0.9215686274509803,
          0.9215686274509803,
          0.9215686274509803,
          0.9215686274509803,
          0.9215686274509803,
          0.9215686274509803
         ],
         "yaxis": "y2"
        },
        {
         "legendgroup": "si",
         "line": {
          "color": "#D79B01",
          "dash": "dash"
         },
         "mode": "lines",
         "name": "Misclassified as \"pancreas\"",
         "type": "scatter",
         "x": [
          0,
          0.125,
          0.25,
          0.375,
          0.5,
          0.625,
          0.75,
          0.875,
          1
         ],
         "xaxis": "x2",
         "y": [
          0.0784313725490196,
          0.0784313725490196,
          0.0784313725490196,
          0.058823529411764705,
          0.058823529411764705,
          0.058823529411764705,
          0.058823529411764705,
          0.0392156862745098,
          0
         ],
         "yaxis": "y2"
        },
        {
         "legendgroup": "si",
         "line": {
          "color": "#D79B01",
          "dash": "dashdot"
         },
         "mode": "lines",
         "name": "Labeled as \"unsure\"",
         "type": "scatter",
         "x": [
          0,
          0.125,
          0.25,
          0.375,
          0.5,
          0.625,
          0.75,
          0.875,
          1
         ],
         "xaxis": "x2",
         "y": [
          0,
          0,
          0,
          0.0196078431372549,
          0.0196078431372549,
          0.0196078431372549,
          0.0196078431372549,
          0.0392156862745098,
          0.0784313725490196
         ],
         "yaxis": "y2"
        },
        {
         "legendgroup": "others",
         "legendgrouptitle": {
          "text": "Proportion of \"others\""
         },
         "line": {
          "color": "#81B366",
          "dash": "solid"
         },
         "mode": "lines",
         "name": "Labeled as \"unsure\"",
         "type": "scatter",
         "x": [
          0,
          0.125,
          0.25,
          0.375,
          0.5,
          0.625,
          0.75,
          0.875,
          1
         ],
         "xaxis": "x3",
         "y": [
          0,
          0,
          0,
          0,
          0.25,
          0.375,
          0.375,
          0.625,
          0.875
         ],
         "yaxis": "y3"
        },
        {
         "legendgroup": "others",
         "line": {
          "color": "#81B366",
          "dash": "dash"
         },
         "mode": "lines",
         "name": "Misclassified as \"pancreas\"",
         "type": "scatter",
         "x": [
          0,
          0.125,
          0.25,
          0.375,
          0.5,
          0.625,
          0.75,
          0.875,
          1
         ],
         "xaxis": "x3",
         "y": [
          1,
          1,
          1,
          1,
          0.75,
          0.625,
          0.625,
          0.375,
          0.125
         ],
         "yaxis": "y3"
        },
        {
         "legendgroup": "others",
         "line": {
          "color": "#81B366",
          "dash": "dashdot"
         },
         "mode": "lines",
         "name": "Misclassified as \"small intestine\"",
         "type": "scatter",
         "x": [
          0,
          0.125,
          0.25,
          0.375,
          0.5,
          0.625,
          0.75,
          0.875,
          1
         ],
         "xaxis": "x3",
         "y": [
          0,
          0,
          0,
          0,
          0,
          0,
          0,
          0,
          0
         ],
         "yaxis": "y3"
        }
       ],
       "layout": {
        "annotations": [
         {
          "font": {
           "size": 16
          },
          "showarrow": false,
          "text": "Pancreas",
          "x": 0.5,
          "xanchor": "center",
          "xref": "paper",
          "y": 1,
          "yanchor": "bottom",
          "yref": "paper"
         },
         {
          "font": {
           "size": 16
          },
          "showarrow": false,
          "text": "Small Intestine",
          "x": 0.5,
          "xanchor": "center",
          "xref": "paper",
          "y": 0.6066666666666667,
          "yanchor": "bottom",
          "yref": "paper"
         },
         {
          "font": {
           "size": 16
          },
          "showarrow": false,
          "text": "Others",
          "x": 0.5,
          "xanchor": "center",
          "xref": "paper",
          "y": 0.21333333333333335,
          "yanchor": "bottom",
          "yref": "paper"
         },
         {
          "font": {
           "size": 30
          },
          "showarrow": false,
          "text": "A",
          "x": -0.13,
          "xref": "x domain",
          "y": 1.3,
          "yref": "y domain"
         },
         {
          "font": {
           "size": 30
          },
          "showarrow": false,
          "text": "B",
          "x": -0.13,
          "xref": "x2 domain",
          "y": 1.3,
          "yref": "y2 domain"
         },
         {
          "font": {
           "size": 30
          },
          "showarrow": false,
          "text": "C",
          "x": -0.13,
          "xref": "x3 domain",
          "y": 1.3,
          "yref": "y3 domain"
         }
        ],
        "font": {
         "color": "black"
        },
        "height": 702,
        "margin": {
         "b": 70,
         "l": 100,
         "r": 100,
         "t": 70
        },
        "plot_bgcolor": "white",
        "showlegend": true,
        "template": {
         "data": {
          "bar": [
           {
            "error_x": {
             "color": "#2a3f5f"
            },
            "error_y": {
             "color": "#2a3f5f"
            },
            "marker": {
             "line": {
              "color": "#E5ECF6",
              "width": 0.5
             },
             "pattern": {
              "fillmode": "overlay",
              "size": 10,
              "solidity": 0.2
             }
            },
            "type": "bar"
           }
          ],
          "barpolar": [
           {
            "marker": {
             "line": {
              "color": "#E5ECF6",
              "width": 0.5
             },
             "pattern": {
              "fillmode": "overlay",
              "size": 10,
              "solidity": 0.2
             }
            },
            "type": "barpolar"
           }
          ],
          "carpet": [
           {
            "aaxis": {
             "endlinecolor": "#2a3f5f",
             "gridcolor": "white",
             "linecolor": "white",
             "minorgridcolor": "white",
             "startlinecolor": "#2a3f5f"
            },
            "baxis": {
             "endlinecolor": "#2a3f5f",
             "gridcolor": "white",
             "linecolor": "white",
             "minorgridcolor": "white",
             "startlinecolor": "#2a3f5f"
            },
            "type": "carpet"
           }
          ],
          "choropleth": [
           {
            "colorbar": {
             "outlinewidth": 0,
             "ticks": ""
            },
            "type": "choropleth"
           }
          ],
          "contour": [
           {
            "colorbar": {
             "outlinewidth": 0,
             "ticks": ""
            },
            "colorscale": [
             [
              0,
              "#0d0887"
             ],
             [
              0.1111111111111111,
              "#46039f"
             ],
             [
              0.2222222222222222,
              "#7201a8"
             ],
             [
              0.3333333333333333,
              "#9c179e"
             ],
             [
              0.4444444444444444,
              "#bd3786"
             ],
             [
              0.5555555555555556,
              "#d8576b"
             ],
             [
              0.6666666666666666,
              "#ed7953"
             ],
             [
              0.7777777777777778,
              "#fb9f3a"
             ],
             [
              0.8888888888888888,
              "#fdca26"
             ],
             [
              1,
              "#f0f921"
             ]
            ],
            "type": "contour"
           }
          ],
          "contourcarpet": [
           {
            "colorbar": {
             "outlinewidth": 0,
             "ticks": ""
            },
            "type": "contourcarpet"
           }
          ],
          "heatmap": [
           {
            "colorbar": {
             "outlinewidth": 0,
             "ticks": ""
            },
            "colorscale": [
             [
              0,
              "#0d0887"
             ],
             [
              0.1111111111111111,
              "#46039f"
             ],
             [
              0.2222222222222222,
              "#7201a8"
             ],
             [
              0.3333333333333333,
              "#9c179e"
             ],
             [
              0.4444444444444444,
              "#bd3786"
             ],
             [
              0.5555555555555556,
              "#d8576b"
             ],
             [
              0.6666666666666666,
              "#ed7953"
             ],
             [
              0.7777777777777778,
              "#fb9f3a"
             ],
             [
              0.8888888888888888,
              "#fdca26"
             ],
             [
              1,
              "#f0f921"
             ]
            ],
            "type": "heatmap"
           }
          ],
          "heatmapgl": [
           {
            "colorbar": {
             "outlinewidth": 0,
             "ticks": ""
            },
            "colorscale": [
             [
              0,
              "#0d0887"
             ],
             [
              0.1111111111111111,
              "#46039f"
             ],
             [
              0.2222222222222222,
              "#7201a8"
             ],
             [
              0.3333333333333333,
              "#9c179e"
             ],
             [
              0.4444444444444444,
              "#bd3786"
             ],
             [
              0.5555555555555556,
              "#d8576b"
             ],
             [
              0.6666666666666666,
              "#ed7953"
             ],
             [
              0.7777777777777778,
              "#fb9f3a"
             ],
             [
              0.8888888888888888,
              "#fdca26"
             ],
             [
              1,
              "#f0f921"
             ]
            ],
            "type": "heatmapgl"
           }
          ],
          "histogram": [
           {
            "marker": {
             "pattern": {
              "fillmode": "overlay",
              "size": 10,
              "solidity": 0.2
             }
            },
            "type": "histogram"
           }
          ],
          "histogram2d": [
           {
            "colorbar": {
             "outlinewidth": 0,
             "ticks": ""
            },
            "colorscale": [
             [
              0,
              "#0d0887"
             ],
             [
              0.1111111111111111,
              "#46039f"
             ],
             [
              0.2222222222222222,
              "#7201a8"
             ],
             [
              0.3333333333333333,
              "#9c179e"
             ],
             [
              0.4444444444444444,
              "#bd3786"
             ],
             [
              0.5555555555555556,
              "#d8576b"
             ],
             [
              0.6666666666666666,
              "#ed7953"
             ],
             [
              0.7777777777777778,
              "#fb9f3a"
             ],
             [
              0.8888888888888888,
              "#fdca26"
             ],
             [
              1,
              "#f0f921"
             ]
            ],
            "type": "histogram2d"
           }
          ],
          "histogram2dcontour": [
           {
            "colorbar": {
             "outlinewidth": 0,
             "ticks": ""
            },
            "colorscale": [
             [
              0,
              "#0d0887"
             ],
             [
              0.1111111111111111,
              "#46039f"
             ],
             [
              0.2222222222222222,
              "#7201a8"
             ],
             [
              0.3333333333333333,
              "#9c179e"
             ],
             [
              0.4444444444444444,
              "#bd3786"
             ],
             [
              0.5555555555555556,
              "#d8576b"
             ],
             [
              0.6666666666666666,
              "#ed7953"
             ],
             [
              0.7777777777777778,
              "#fb9f3a"
             ],
             [
              0.8888888888888888,
              "#fdca26"
             ],
             [
              1,
              "#f0f921"
             ]
            ],
            "type": "histogram2dcontour"
           }
          ],
          "mesh3d": [
           {
            "colorbar": {
             "outlinewidth": 0,
             "ticks": ""
            },
            "type": "mesh3d"
           }
          ],
          "parcoords": [
           {
            "line": {
             "colorbar": {
              "outlinewidth": 0,
              "ticks": ""
             }
            },
            "type": "parcoords"
           }
          ],
          "pie": [
           {
            "automargin": true,
            "type": "pie"
           }
          ],
          "scatter": [
           {
            "fillpattern": {
             "fillmode": "overlay",
             "size": 10,
             "solidity": 0.2
            },
            "type": "scatter"
           }
          ],
          "scatter3d": [
           {
            "line": {
             "colorbar": {
              "outlinewidth": 0,
              "ticks": ""
             }
            },
            "marker": {
             "colorbar": {
              "outlinewidth": 0,
              "ticks": ""
             }
            },
            "type": "scatter3d"
           }
          ],
          "scattercarpet": [
           {
            "marker": {
             "colorbar": {
              "outlinewidth": 0,
              "ticks": ""
             }
            },
            "type": "scattercarpet"
           }
          ],
          "scattergeo": [
           {
            "marker": {
             "colorbar": {
              "outlinewidth": 0,
              "ticks": ""
             }
            },
            "type": "scattergeo"
           }
          ],
          "scattergl": [
           {
            "marker": {
             "colorbar": {
              "outlinewidth": 0,
              "ticks": ""
             }
            },
            "type": "scattergl"
           }
          ],
          "scattermapbox": [
           {
            "marker": {
             "colorbar": {
              "outlinewidth": 0,
              "ticks": ""
             }
            },
            "type": "scattermapbox"
           }
          ],
          "scatterpolar": [
           {
            "marker": {
             "colorbar": {
              "outlinewidth": 0,
              "ticks": ""
             }
            },
            "type": "scatterpolar"
           }
          ],
          "scatterpolargl": [
           {
            "marker": {
             "colorbar": {
              "outlinewidth": 0,
              "ticks": ""
             }
            },
            "type": "scatterpolargl"
           }
          ],
          "scatterternary": [
           {
            "marker": {
             "colorbar": {
              "outlinewidth": 0,
              "ticks": ""
             }
            },
            "type": "scatterternary"
           }
          ],
          "surface": [
           {
            "colorbar": {
             "outlinewidth": 0,
             "ticks": ""
            },
            "colorscale": [
             [
              0,
              "#0d0887"
             ],
             [
              0.1111111111111111,
              "#46039f"
             ],
             [
              0.2222222222222222,
              "#7201a8"
             ],
             [
              0.3333333333333333,
              "#9c179e"
             ],
             [
              0.4444444444444444,
              "#bd3786"
             ],
             [
              0.5555555555555556,
              "#d8576b"
             ],
             [
              0.6666666666666666,
              "#ed7953"
             ],
             [
              0.7777777777777778,
              "#fb9f3a"
             ],
             [
              0.8888888888888888,
              "#fdca26"
             ],
             [
              1,
              "#f0f921"
             ]
            ],
            "type": "surface"
           }
          ],
          "table": [
           {
            "cells": {
             "fill": {
              "color": "#EBF0F8"
             },
             "line": {
              "color": "white"
             }
            },
            "header": {
             "fill": {
              "color": "#C8D4E3"
             },
             "line": {
              "color": "white"
             }
            },
            "type": "table"
           }
          ]
         },
         "layout": {
          "annotationdefaults": {
           "arrowcolor": "#2a3f5f",
           "arrowhead": 0,
           "arrowwidth": 1
          },
          "autotypenumbers": "strict",
          "coloraxis": {
           "colorbar": {
            "outlinewidth": 0,
            "ticks": ""
           }
          },
          "colorscale": {
           "diverging": [
            [
             0,
             "#8e0152"
            ],
            [
             0.1,
             "#c51b7d"
            ],
            [
             0.2,
             "#de77ae"
            ],
            [
             0.3,
             "#f1b6da"
            ],
            [
             0.4,
             "#fde0ef"
            ],
            [
             0.5,
             "#f7f7f7"
            ],
            [
             0.6,
             "#e6f5d0"
            ],
            [
             0.7,
             "#b8e186"
            ],
            [
             0.8,
             "#7fbc41"
            ],
            [
             0.9,
             "#4d9221"
            ],
            [
             1,
             "#276419"
            ]
           ],
           "sequential": [
            [
             0,
             "#0d0887"
            ],
            [
             0.1111111111111111,
             "#46039f"
            ],
            [
             0.2222222222222222,
             "#7201a8"
            ],
            [
             0.3333333333333333,
             "#9c179e"
            ],
            [
             0.4444444444444444,
             "#bd3786"
            ],
            [
             0.5555555555555556,
             "#d8576b"
            ],
            [
             0.6666666666666666,
             "#ed7953"
            ],
            [
             0.7777777777777778,
             "#fb9f3a"
            ],
            [
             0.8888888888888888,
             "#fdca26"
            ],
            [
             1,
             "#f0f921"
            ]
           ],
           "sequentialminus": [
            [
             0,
             "#0d0887"
            ],
            [
             0.1111111111111111,
             "#46039f"
            ],
            [
             0.2222222222222222,
             "#7201a8"
            ],
            [
             0.3333333333333333,
             "#9c179e"
            ],
            [
             0.4444444444444444,
             "#bd3786"
            ],
            [
             0.5555555555555556,
             "#d8576b"
            ],
            [
             0.6666666666666666,
             "#ed7953"
            ],
            [
             0.7777777777777778,
             "#fb9f3a"
            ],
            [
             0.8888888888888888,
             "#fdca26"
            ],
            [
             1,
             "#f0f921"
            ]
           ]
          },
          "colorway": [
           "#636efa",
           "#EF553B",
           "#00cc96",
           "#ab63fa",
           "#FFA15A",
           "#19d3f3",
           "#FF6692",
           "#B6E880",
           "#FF97FF",
           "#FECB52"
          ],
          "font": {
           "color": "#2a3f5f"
          },
          "geo": {
           "bgcolor": "white",
           "lakecolor": "white",
           "landcolor": "#E5ECF6",
           "showlakes": true,
           "showland": true,
           "subunitcolor": "white"
          },
          "hoverlabel": {
           "align": "left"
          },
          "hovermode": "closest",
          "mapbox": {
           "style": "light"
          },
          "paper_bgcolor": "white",
          "plot_bgcolor": "#E5ECF6",
          "polar": {
           "angularaxis": {
            "gridcolor": "white",
            "linecolor": "white",
            "ticks": ""
           },
           "bgcolor": "#E5ECF6",
           "radialaxis": {
            "gridcolor": "white",
            "linecolor": "white",
            "ticks": ""
           }
          },
          "scene": {
           "xaxis": {
            "backgroundcolor": "#E5ECF6",
            "gridcolor": "white",
            "gridwidth": 2,
            "linecolor": "white",
            "showbackground": true,
            "ticks": "",
            "zerolinecolor": "white"
           },
           "yaxis": {
            "backgroundcolor": "#E5ECF6",
            "gridcolor": "white",
            "gridwidth": 2,
            "linecolor": "white",
            "showbackground": true,
            "ticks": "",
            "zerolinecolor": "white"
           },
           "zaxis": {
            "backgroundcolor": "#E5ECF6",
            "gridcolor": "white",
            "gridwidth": 2,
            "linecolor": "white",
            "showbackground": true,
            "ticks": "",
            "zerolinecolor": "white"
           }
          },
          "shapedefaults": {
           "line": {
            "color": "#2a3f5f"
           }
          },
          "ternary": {
           "aaxis": {
            "gridcolor": "white",
            "linecolor": "white",
            "ticks": ""
           },
           "baxis": {
            "gridcolor": "white",
            "linecolor": "white",
            "ticks": ""
           },
           "bgcolor": "#E5ECF6",
           "caxis": {
            "gridcolor": "white",
            "linecolor": "white",
            "ticks": ""
           }
          },
          "title": {
           "x": 0.05
          },
          "xaxis": {
           "automargin": true,
           "gridcolor": "white",
           "linecolor": "white",
           "ticks": "",
           "title": {
            "standoff": 15
           },
           "zerolinecolor": "white",
           "zerolinewidth": 2
          },
          "yaxis": {
           "automargin": true,
           "gridcolor": "white",
           "linecolor": "white",
           "ticks": "",
           "title": {
            "standoff": 15
           },
           "zerolinecolor": "white",
           "zerolinewidth": 2
          }
         }
        },
        "width": 902,
        "xaxis": {
         "anchor": "y",
         "domain": [
          0,
          1
         ],
         "gridcolor": "lightgrey",
         "linecolor": "black",
         "matches": "x3",
         "showline": true,
         "showticklabels": true,
         "title": {
          "text": "Confidence"
         }
        },
        "xaxis2": {
         "anchor": "y2",
         "domain": [
          0,
          1
         ],
         "gridcolor": "lightgrey",
         "linecolor": "black",
         "matches": "x3",
         "showline": true,
         "showticklabels": true,
         "title": {
          "text": "Confidence"
         }
        },
        "xaxis3": {
         "anchor": "y3",
         "domain": [
          0,
          1
         ],
         "gridcolor": "lightgrey",
         "linecolor": "black",
         "showline": true,
         "title": {
          "text": "Confidence"
         }
        },
        "yaxis": {
         "anchor": "x",
         "domain": [
          0.7866666666666666,
          1
         ],
         "gridcolor": "lightgrey",
         "linecolor": "black",
         "range": [
          0,
          1.05
         ],
         "showline": true,
         "tickvals": [
          0,
          0.2,
          0.4,
          0.6,
          0.8,
          1
         ],
         "title": {
          "text": "Proportion"
         }
        },
        "yaxis2": {
         "anchor": "x2",
         "domain": [
          0.3933333333333333,
          0.6066666666666667
         ],
         "gridcolor": "lightgrey",
         "linecolor": "black",
         "range": [
          0,
          1.05
         ],
         "showline": true,
         "tickvals": [
          0,
          0.2,
          0.4,
          0.6,
          0.8,
          1
         ],
         "title": {
          "text": "Proportion"
         }
        },
        "yaxis3": {
         "anchor": "x3",
         "domain": [
          0,
          0.21333333333333335
         ],
         "gridcolor": "lightgrey",
         "linecolor": "black",
         "range": [
          0,
          1.05
         ],
         "showline": true,
         "tickvals": [
          0,
          0.2,
          0.4,
          0.6,
          0.8,
          1
         ],
         "title": {
          "text": "Proportion"
         }
        }
       }
      }
     },
     "metadata": {},
     "output_type": "display_data"
    }
   ],
   "source": [
    "results = np.empty((9, 10))\n",
    "for i in range(y_pred_patient_level_complete.shape[1]):\n",
    "    cf_matrix = confusion_matrix(y_true_patient_level_complete, y_pred_patient_level_complete[:, i])\n",
    "    results[i, 0] = i / 8\n",
    "    results[i, 1] = cf_matrix[2, 0] / sum(cf_matrix[2, :])\n",
    "    results[i, 2] = cf_matrix[2, 1] / sum(cf_matrix[2, :])\n",
    "    results[i, 3] = cf_matrix[2, 2] / sum(cf_matrix[2, :])\n",
    "\n",
    "\n",
    "    results[i, 4] = cf_matrix[0, 0] / sum(cf_matrix[0, :])\n",
    "    results[i, 5] = cf_matrix[0, 1] / sum(cf_matrix[0, :])\n",
    "    results[i, 6] = cf_matrix[0, 2] / sum(cf_matrix[0, :])\n",
    "\n",
    "    results[i, 7] = cf_matrix[1, 0] / sum(cf_matrix[1, :])\n",
    "    results[i, 8] = cf_matrix[1, 1] / sum(cf_matrix[1, :])\n",
    "    results[i, 9] = cf_matrix[1, 2] / sum(cf_matrix[1, :])\n",
    "\n",
    "# Extracting data from the 'results' array\n",
    "x_values = results[:, 0]\n",
    "\n",
    "# Create subplots with 3 rows and 1 column\n",
    "fig = sp.make_subplots(rows=3, cols=1, shared_xaxes=True, subplot_titles=['Pancreas', 'Small Intestine', 'Others'], vertical_spacing=0.18)\n",
    "\n",
    "# Scatter plot for \"pancreas\" category\n",
    "fig.add_trace(go.Scatter(x=x_values, y=results[:, 4], mode='lines', line={'color': '#6C8EBF', 'dash': 'solid'},\n",
    "                         name='Identified as \"pancreas\"', legendgroup='pancreas', legendgrouptitle_text='Proportion of \"pancreas\"'), row=1, col=1)\n",
    "fig.add_trace(go.Scatter(x=x_values, y=results[:, 5], mode='lines', line={'color': '#6C8EBF', 'dash': 'dash'},\n",
    "                         name='Misclassified as \"small intestine\"', legendgroup='pancreas'), row=1, col=1)\n",
    "fig.add_trace(go.Scatter(x=x_values, y=results[:, 6], mode='lines', line={'color': '#6C8EBF', 'dash': 'dashdot'},\n",
    "                         name='Labeled as \"unsure\"', legendgroup='pancreas'), row=1, col=1)\n",
    "\n",
    "# Scatter plot for \"small intestine\" category\n",
    "fig.add_trace(go.Scatter(x=x_values, y=results[:, 8], mode='lines', line={'color': '#D79B01', 'dash': 'solid'},\n",
    "                         name='Identified as \"small intestine\"', legendgroup='si', legendgrouptitle_text='Proportion of \"small intestine\"'), row=2, col=1)\n",
    "fig.add_trace(go.Scatter(x=x_values, y=results[:, 7], mode='lines', line={'color': '#D79B01', 'dash': 'dash'},\n",
    "                         name='Misclassified as \"pancreas\"', legendgroup='si'), row=2, col=1)\n",
    "fig.add_trace(go.Scatter(x=x_values, y=results[:, 9], mode='lines', line={'color': '#D79B01', 'dash': 'dashdot'},\n",
    "                         name='Labeled as \"unsure\"', legendgroup='si'), row=2, col=1)\n",
    "\n",
    "# Scatter plot for \"others\" category\n",
    "fig.add_trace(go.Scatter(x=x_values, y=results[:, 3], mode='lines', line={'color': '#81B366', 'dash': 'solid'},\n",
    "                         name='Labeled as \"unsure\"', legendgroup='others', legendgrouptitle_text='Proportion of \"others\"'), row=3, col=1)\n",
    "fig.add_trace(go.Scatter(x=x_values, y=results[:, 1], mode='lines', line={'color': '#81B366', 'dash': 'dash'},\n",
    "                         name='Misclassified as \"pancreas\"', legendgroup='others'), row=3, col=1)\n",
    "fig.add_trace(go.Scatter(x=x_values, y=results[:, 2], mode='lines', line={'color': '#81B366', 'dash': 'dashdot'},\n",
    "                         name='Misclassified as \"small intestine\"', legendgroup='others'), row=3, col=1)\n",
    "\n",
    "\n",
    "# Update axis properties and layout\n",
    "fig.update_xaxes(showline=True, linecolor='black', gridcolor='lightgrey')\n",
    "fig.update_yaxes(showline=True, linecolor='black', tickvals=[0, 0.2, 0.4, 0.6, 0.8, 1], range=[0, 1.05], gridcolor='lightgrey')\n",
    "fig.update_layout(showlegend=True, height=702, width=902, plot_bgcolor='white', margin=dict(l=100,r=100,b=70,t=70), font=dict(color='black'),\n",
    "                  xaxis_showticklabels=True, xaxis2_showticklabels=True,\n",
    "                  xaxis_title=\"Confidence\", xaxis2_title=\"Confidence\", xaxis3_title=\"Confidence\",\n",
    "                  yaxis_title=\"Proportion\", yaxis2_title=\"Proportion\", yaxis3_title=\"Proportion\")\n",
    "\n",
    "fig.add_annotation(xref='x domain',\n",
    "                   yref='y domain',\n",
    "                   x=-0.13,\n",
    "                   y=1.3,\n",
    "                   text='A',\n",
    "                   font=dict(size=30),\n",
    "                   showarrow=False,\n",
    "                   row=1, col=1)\n",
    "fig.add_annotation(xref='x domain',\n",
    "                   yref='y domain',\n",
    "                   x=-0.13,\n",
    "                   y=1.3,\n",
    "                   text='B',\n",
    "                   font=dict(size=30),\n",
    "                   showarrow=False,\n",
    "                   row=2, col=1)\n",
    "fig.add_annotation(xref='x domain',\n",
    "                   yref='y domain',\n",
    "                   x=-0.13,\n",
    "                   y=1.3,\n",
    "                   text='C',\n",
    "                   font=dict(size=30),\n",
    "                   showarrow=False,\n",
    "                   row=3, col=1)\n",
    "\n",
    "fig.show()"
   ]
  },
  {
   "cell_type": "code",
   "execution_count": 42,
   "metadata": {},
   "outputs": [
    {
     "data": {
      "application/vnd.plotly.v1+json": {
       "config": {
        "plotlyServerURL": "https://plot.ly"
       },
       "data": [
        {
         "line": {
          "color": "blue",
          "width": 3
         },
         "marker": {
          "color": "blue",
          "size": 10,
          "symbol": "circle"
         },
         "mode": "markers",
         "type": "scatter",
         "x": [
          0.1694915254237288,
          0.1694915254237288,
          0.1694915254237288,
          0.15254237288135594,
          0.13559322033898305,
          0.1016949152542373,
          0.1016949152542373,
          0.1016949152542373,
          0.05084745762711865
         ],
         "y": [
          0.9,
          0.9,
          0.85,
          0.775,
          0.7,
          0.55,
          0.475,
          0.425,
          0.25
         ]
        }
       ],
       "layout": {
        "height": 600,
        "legend": {
         "bgcolor": "rgba(255, 255, 255, 0.7)",
         "bordercolor": "black",
         "borderwidth": 1,
         "font": {
          "size": 14
         },
         "x": 0.7,
         "y": 0.2
        },
        "template": {
         "data": {
          "bar": [
           {
            "error_x": {
             "color": "#2a3f5f"
            },
            "error_y": {
             "color": "#2a3f5f"
            },
            "marker": {
             "line": {
              "color": "white",
              "width": 0.5
             },
             "pattern": {
              "fillmode": "overlay",
              "size": 10,
              "solidity": 0.2
             }
            },
            "type": "bar"
           }
          ],
          "barpolar": [
           {
            "marker": {
             "line": {
              "color": "white",
              "width": 0.5
             },
             "pattern": {
              "fillmode": "overlay",
              "size": 10,
              "solidity": 0.2
             }
            },
            "type": "barpolar"
           }
          ],
          "carpet": [
           {
            "aaxis": {
             "endlinecolor": "#2a3f5f",
             "gridcolor": "#C8D4E3",
             "linecolor": "#C8D4E3",
             "minorgridcolor": "#C8D4E3",
             "startlinecolor": "#2a3f5f"
            },
            "baxis": {
             "endlinecolor": "#2a3f5f",
             "gridcolor": "#C8D4E3",
             "linecolor": "#C8D4E3",
             "minorgridcolor": "#C8D4E3",
             "startlinecolor": "#2a3f5f"
            },
            "type": "carpet"
           }
          ],
          "choropleth": [
           {
            "colorbar": {
             "outlinewidth": 0,
             "ticks": ""
            },
            "type": "choropleth"
           }
          ],
          "contour": [
           {
            "colorbar": {
             "outlinewidth": 0,
             "ticks": ""
            },
            "colorscale": [
             [
              0,
              "#0d0887"
             ],
             [
              0.1111111111111111,
              "#46039f"
             ],
             [
              0.2222222222222222,
              "#7201a8"
             ],
             [
              0.3333333333333333,
              "#9c179e"
             ],
             [
              0.4444444444444444,
              "#bd3786"
             ],
             [
              0.5555555555555556,
              "#d8576b"
             ],
             [
              0.6666666666666666,
              "#ed7953"
             ],
             [
              0.7777777777777778,
              "#fb9f3a"
             ],
             [
              0.8888888888888888,
              "#fdca26"
             ],
             [
              1,
              "#f0f921"
             ]
            ],
            "type": "contour"
           }
          ],
          "contourcarpet": [
           {
            "colorbar": {
             "outlinewidth": 0,
             "ticks": ""
            },
            "type": "contourcarpet"
           }
          ],
          "heatmap": [
           {
            "colorbar": {
             "outlinewidth": 0,
             "ticks": ""
            },
            "colorscale": [
             [
              0,
              "#0d0887"
             ],
             [
              0.1111111111111111,
              "#46039f"
             ],
             [
              0.2222222222222222,
              "#7201a8"
             ],
             [
              0.3333333333333333,
              "#9c179e"
             ],
             [
              0.4444444444444444,
              "#bd3786"
             ],
             [
              0.5555555555555556,
              "#d8576b"
             ],
             [
              0.6666666666666666,
              "#ed7953"
             ],
             [
              0.7777777777777778,
              "#fb9f3a"
             ],
             [
              0.8888888888888888,
              "#fdca26"
             ],
             [
              1,
              "#f0f921"
             ]
            ],
            "type": "heatmap"
           }
          ],
          "heatmapgl": [
           {
            "colorbar": {
             "outlinewidth": 0,
             "ticks": ""
            },
            "colorscale": [
             [
              0,
              "#0d0887"
             ],
             [
              0.1111111111111111,
              "#46039f"
             ],
             [
              0.2222222222222222,
              "#7201a8"
             ],
             [
              0.3333333333333333,
              "#9c179e"
             ],
             [
              0.4444444444444444,
              "#bd3786"
             ],
             [
              0.5555555555555556,
              "#d8576b"
             ],
             [
              0.6666666666666666,
              "#ed7953"
             ],
             [
              0.7777777777777778,
              "#fb9f3a"
             ],
             [
              0.8888888888888888,
              "#fdca26"
             ],
             [
              1,
              "#f0f921"
             ]
            ],
            "type": "heatmapgl"
           }
          ],
          "histogram": [
           {
            "marker": {
             "pattern": {
              "fillmode": "overlay",
              "size": 10,
              "solidity": 0.2
             }
            },
            "type": "histogram"
           }
          ],
          "histogram2d": [
           {
            "colorbar": {
             "outlinewidth": 0,
             "ticks": ""
            },
            "colorscale": [
             [
              0,
              "#0d0887"
             ],
             [
              0.1111111111111111,
              "#46039f"
             ],
             [
              0.2222222222222222,
              "#7201a8"
             ],
             [
              0.3333333333333333,
              "#9c179e"
             ],
             [
              0.4444444444444444,
              "#bd3786"
             ],
             [
              0.5555555555555556,
              "#d8576b"
             ],
             [
              0.6666666666666666,
              "#ed7953"
             ],
             [
              0.7777777777777778,
              "#fb9f3a"
             ],
             [
              0.8888888888888888,
              "#fdca26"
             ],
             [
              1,
              "#f0f921"
             ]
            ],
            "type": "histogram2d"
           }
          ],
          "histogram2dcontour": [
           {
            "colorbar": {
             "outlinewidth": 0,
             "ticks": ""
            },
            "colorscale": [
             [
              0,
              "#0d0887"
             ],
             [
              0.1111111111111111,
              "#46039f"
             ],
             [
              0.2222222222222222,
              "#7201a8"
             ],
             [
              0.3333333333333333,
              "#9c179e"
             ],
             [
              0.4444444444444444,
              "#bd3786"
             ],
             [
              0.5555555555555556,
              "#d8576b"
             ],
             [
              0.6666666666666666,
              "#ed7953"
             ],
             [
              0.7777777777777778,
              "#fb9f3a"
             ],
             [
              0.8888888888888888,
              "#fdca26"
             ],
             [
              1,
              "#f0f921"
             ]
            ],
            "type": "histogram2dcontour"
           }
          ],
          "mesh3d": [
           {
            "colorbar": {
             "outlinewidth": 0,
             "ticks": ""
            },
            "type": "mesh3d"
           }
          ],
          "parcoords": [
           {
            "line": {
             "colorbar": {
              "outlinewidth": 0,
              "ticks": ""
             }
            },
            "type": "parcoords"
           }
          ],
          "pie": [
           {
            "automargin": true,
            "type": "pie"
           }
          ],
          "scatter": [
           {
            "fillpattern": {
             "fillmode": "overlay",
             "size": 10,
             "solidity": 0.2
            },
            "type": "scatter"
           }
          ],
          "scatter3d": [
           {
            "line": {
             "colorbar": {
              "outlinewidth": 0,
              "ticks": ""
             }
            },
            "marker": {
             "colorbar": {
              "outlinewidth": 0,
              "ticks": ""
             }
            },
            "type": "scatter3d"
           }
          ],
          "scattercarpet": [
           {
            "marker": {
             "colorbar": {
              "outlinewidth": 0,
              "ticks": ""
             }
            },
            "type": "scattercarpet"
           }
          ],
          "scattergeo": [
           {
            "marker": {
             "colorbar": {
              "outlinewidth": 0,
              "ticks": ""
             }
            },
            "type": "scattergeo"
           }
          ],
          "scattergl": [
           {
            "marker": {
             "colorbar": {
              "outlinewidth": 0,
              "ticks": ""
             }
            },
            "type": "scattergl"
           }
          ],
          "scattermapbox": [
           {
            "marker": {
             "colorbar": {
              "outlinewidth": 0,
              "ticks": ""
             }
            },
            "type": "scattermapbox"
           }
          ],
          "scatterpolar": [
           {
            "marker": {
             "colorbar": {
              "outlinewidth": 0,
              "ticks": ""
             }
            },
            "type": "scatterpolar"
           }
          ],
          "scatterpolargl": [
           {
            "marker": {
             "colorbar": {
              "outlinewidth": 0,
              "ticks": ""
             }
            },
            "type": "scatterpolargl"
           }
          ],
          "scatterternary": [
           {
            "marker": {
             "colorbar": {
              "outlinewidth": 0,
              "ticks": ""
             }
            },
            "type": "scatterternary"
           }
          ],
          "surface": [
           {
            "colorbar": {
             "outlinewidth": 0,
             "ticks": ""
            },
            "colorscale": [
             [
              0,
              "#0d0887"
             ],
             [
              0.1111111111111111,
              "#46039f"
             ],
             [
              0.2222222222222222,
              "#7201a8"
             ],
             [
              0.3333333333333333,
              "#9c179e"
             ],
             [
              0.4444444444444444,
              "#bd3786"
             ],
             [
              0.5555555555555556,
              "#d8576b"
             ],
             [
              0.6666666666666666,
              "#ed7953"
             ],
             [
              0.7777777777777778,
              "#fb9f3a"
             ],
             [
              0.8888888888888888,
              "#fdca26"
             ],
             [
              1,
              "#f0f921"
             ]
            ],
            "type": "surface"
           }
          ],
          "table": [
           {
            "cells": {
             "fill": {
              "color": "#EBF0F8"
             },
             "line": {
              "color": "white"
             }
            },
            "header": {
             "fill": {
              "color": "#C8D4E3"
             },
             "line": {
              "color": "white"
             }
            },
            "type": "table"
           }
          ]
         },
         "layout": {
          "annotationdefaults": {
           "arrowcolor": "#2a3f5f",
           "arrowhead": 0,
           "arrowwidth": 1
          },
          "autotypenumbers": "strict",
          "coloraxis": {
           "colorbar": {
            "outlinewidth": 0,
            "ticks": ""
           }
          },
          "colorscale": {
           "diverging": [
            [
             0,
             "#8e0152"
            ],
            [
             0.1,
             "#c51b7d"
            ],
            [
             0.2,
             "#de77ae"
            ],
            [
             0.3,
             "#f1b6da"
            ],
            [
             0.4,
             "#fde0ef"
            ],
            [
             0.5,
             "#f7f7f7"
            ],
            [
             0.6,
             "#e6f5d0"
            ],
            [
             0.7,
             "#b8e186"
            ],
            [
             0.8,
             "#7fbc41"
            ],
            [
             0.9,
             "#4d9221"
            ],
            [
             1,
             "#276419"
            ]
           ],
           "sequential": [
            [
             0,
             "#0d0887"
            ],
            [
             0.1111111111111111,
             "#46039f"
            ],
            [
             0.2222222222222222,
             "#7201a8"
            ],
            [
             0.3333333333333333,
             "#9c179e"
            ],
            [
             0.4444444444444444,
             "#bd3786"
            ],
            [
             0.5555555555555556,
             "#d8576b"
            ],
            [
             0.6666666666666666,
             "#ed7953"
            ],
            [
             0.7777777777777778,
             "#fb9f3a"
            ],
            [
             0.8888888888888888,
             "#fdca26"
            ],
            [
             1,
             "#f0f921"
            ]
           ],
           "sequentialminus": [
            [
             0,
             "#0d0887"
            ],
            [
             0.1111111111111111,
             "#46039f"
            ],
            [
             0.2222222222222222,
             "#7201a8"
            ],
            [
             0.3333333333333333,
             "#9c179e"
            ],
            [
             0.4444444444444444,
             "#bd3786"
            ],
            [
             0.5555555555555556,
             "#d8576b"
            ],
            [
             0.6666666666666666,
             "#ed7953"
            ],
            [
             0.7777777777777778,
             "#fb9f3a"
            ],
            [
             0.8888888888888888,
             "#fdca26"
            ],
            [
             1,
             "#f0f921"
            ]
           ]
          },
          "colorway": [
           "#636efa",
           "#EF553B",
           "#00cc96",
           "#ab63fa",
           "#FFA15A",
           "#19d3f3",
           "#FF6692",
           "#B6E880",
           "#FF97FF",
           "#FECB52"
          ],
          "font": {
           "color": "#2a3f5f"
          },
          "geo": {
           "bgcolor": "white",
           "lakecolor": "white",
           "landcolor": "white",
           "showlakes": true,
           "showland": true,
           "subunitcolor": "#C8D4E3"
          },
          "hoverlabel": {
           "align": "left"
          },
          "hovermode": "closest",
          "mapbox": {
           "style": "light"
          },
          "paper_bgcolor": "white",
          "plot_bgcolor": "white",
          "polar": {
           "angularaxis": {
            "gridcolor": "#EBF0F8",
            "linecolor": "#EBF0F8",
            "ticks": ""
           },
           "bgcolor": "white",
           "radialaxis": {
            "gridcolor": "#EBF0F8",
            "linecolor": "#EBF0F8",
            "ticks": ""
           }
          },
          "scene": {
           "xaxis": {
            "backgroundcolor": "white",
            "gridcolor": "#DFE8F3",
            "gridwidth": 2,
            "linecolor": "#EBF0F8",
            "showbackground": true,
            "ticks": "",
            "zerolinecolor": "#EBF0F8"
           },
           "yaxis": {
            "backgroundcolor": "white",
            "gridcolor": "#DFE8F3",
            "gridwidth": 2,
            "linecolor": "#EBF0F8",
            "showbackground": true,
            "ticks": "",
            "zerolinecolor": "#EBF0F8"
           },
           "zaxis": {
            "backgroundcolor": "white",
            "gridcolor": "#DFE8F3",
            "gridwidth": 2,
            "linecolor": "#EBF0F8",
            "showbackground": true,
            "ticks": "",
            "zerolinecolor": "#EBF0F8"
           }
          },
          "shapedefaults": {
           "line": {
            "color": "#2a3f5f"
           }
          },
          "ternary": {
           "aaxis": {
            "gridcolor": "#DFE8F3",
            "linecolor": "#A2B1C6",
            "ticks": ""
           },
           "baxis": {
            "gridcolor": "#DFE8F3",
            "linecolor": "#A2B1C6",
            "ticks": ""
           },
           "bgcolor": "white",
           "caxis": {
            "gridcolor": "#DFE8F3",
            "linecolor": "#A2B1C6",
            "ticks": ""
           }
          },
          "title": {
           "x": 0.05
          },
          "xaxis": {
           "automargin": true,
           "gridcolor": "#EBF0F8",
           "linecolor": "#EBF0F8",
           "ticks": "",
           "title": {
            "standoff": 15
           },
           "zerolinecolor": "#EBF0F8",
           "zerolinewidth": 2
          },
          "yaxis": {
           "automargin": true,
           "gridcolor": "#EBF0F8",
           "linecolor": "#EBF0F8",
           "ticks": "",
           "title": {
            "standoff": 15
           },
           "zerolinecolor": "#EBF0F8",
           "zerolinewidth": 2
          }
         }
        },
        "title": {
         "font": {
          "color": "black",
          "size": 24
         },
         "text": "Pancreas vs. (Small Intestine & Others)",
         "x": 0.5,
         "xanchor": "center"
        },
        "width": 800,
        "xaxis": {
         "gridcolor": "lightgray",
         "range": [
          -0.01,
          1.02
         ],
         "showgrid": true,
         "tickfont": {
          "size": 14
         },
         "title": {
          "font": {
           "size": 18
          },
          "text": "False Positive Rate"
         },
         "zeroline": true,
         "zerolinecolor": "lightgray",
         "zerolinewidth": 1
        },
        "yaxis": {
         "gridcolor": "lightgray",
         "range": [
          -0.01,
          1.02
         ],
         "showgrid": true,
         "tickfont": {
          "size": 14
         },
         "title": {
          "font": {
           "size": 18
          },
          "text": "True Positive Rate"
         },
         "zeroline": true,
         "zerolinecolor": "lightgray",
         "zerolinewidth": 1
        }
       }
      }
     },
     "metadata": {},
     "output_type": "display_data"
    },
    {
     "data": {
      "application/vnd.plotly.v1+json": {
       "config": {
        "plotlyServerURL": "https://plot.ly"
       },
       "data": [
        {
         "line": {
          "color": "blue",
          "width": 3
         },
         "marker": {
          "color": "blue",
          "size": 10,
          "symbol": "circle"
         },
         "mode": "markers",
         "type": "scatter",
         "x": [
          0.08333333333333333,
          0.08333333333333333,
          0.08333333333333333,
          0.08333333333333333,
          0.08333333333333333,
          0.08333333333333333,
          0.08333333333333333,
          0.08333333333333333,
          0.0625
         ],
         "y": [
          0.9607843137254902,
          0.9607843137254902,
          0.9607843137254902,
          0.9607843137254902,
          0.9607843137254902,
          0.9607843137254902,
          0.9607843137254902,
          0.9607843137254902,
          0.9607843137254902
         ]
        }
       ],
       "layout": {
        "height": 600,
        "legend": {
         "bgcolor": "rgba(255, 255, 255, 0.7)",
         "bordercolor": "black",
         "borderwidth": 1,
         "font": {
          "size": 14
         },
         "x": 0.7,
         "y": 0.2
        },
        "template": {
         "data": {
          "bar": [
           {
            "error_x": {
             "color": "#2a3f5f"
            },
            "error_y": {
             "color": "#2a3f5f"
            },
            "marker": {
             "line": {
              "color": "white",
              "width": 0.5
             },
             "pattern": {
              "fillmode": "overlay",
              "size": 10,
              "solidity": 0.2
             }
            },
            "type": "bar"
           }
          ],
          "barpolar": [
           {
            "marker": {
             "line": {
              "color": "white",
              "width": 0.5
             },
             "pattern": {
              "fillmode": "overlay",
              "size": 10,
              "solidity": 0.2
             }
            },
            "type": "barpolar"
           }
          ],
          "carpet": [
           {
            "aaxis": {
             "endlinecolor": "#2a3f5f",
             "gridcolor": "#C8D4E3",
             "linecolor": "#C8D4E3",
             "minorgridcolor": "#C8D4E3",
             "startlinecolor": "#2a3f5f"
            },
            "baxis": {
             "endlinecolor": "#2a3f5f",
             "gridcolor": "#C8D4E3",
             "linecolor": "#C8D4E3",
             "minorgridcolor": "#C8D4E3",
             "startlinecolor": "#2a3f5f"
            },
            "type": "carpet"
           }
          ],
          "choropleth": [
           {
            "colorbar": {
             "outlinewidth": 0,
             "ticks": ""
            },
            "type": "choropleth"
           }
          ],
          "contour": [
           {
            "colorbar": {
             "outlinewidth": 0,
             "ticks": ""
            },
            "colorscale": [
             [
              0,
              "#0d0887"
             ],
             [
              0.1111111111111111,
              "#46039f"
             ],
             [
              0.2222222222222222,
              "#7201a8"
             ],
             [
              0.3333333333333333,
              "#9c179e"
             ],
             [
              0.4444444444444444,
              "#bd3786"
             ],
             [
              0.5555555555555556,
              "#d8576b"
             ],
             [
              0.6666666666666666,
              "#ed7953"
             ],
             [
              0.7777777777777778,
              "#fb9f3a"
             ],
             [
              0.8888888888888888,
              "#fdca26"
             ],
             [
              1,
              "#f0f921"
             ]
            ],
            "type": "contour"
           }
          ],
          "contourcarpet": [
           {
            "colorbar": {
             "outlinewidth": 0,
             "ticks": ""
            },
            "type": "contourcarpet"
           }
          ],
          "heatmap": [
           {
            "colorbar": {
             "outlinewidth": 0,
             "ticks": ""
            },
            "colorscale": [
             [
              0,
              "#0d0887"
             ],
             [
              0.1111111111111111,
              "#46039f"
             ],
             [
              0.2222222222222222,
              "#7201a8"
             ],
             [
              0.3333333333333333,
              "#9c179e"
             ],
             [
              0.4444444444444444,
              "#bd3786"
             ],
             [
              0.5555555555555556,
              "#d8576b"
             ],
             [
              0.6666666666666666,
              "#ed7953"
             ],
             [
              0.7777777777777778,
              "#fb9f3a"
             ],
             [
              0.8888888888888888,
              "#fdca26"
             ],
             [
              1,
              "#f0f921"
             ]
            ],
            "type": "heatmap"
           }
          ],
          "heatmapgl": [
           {
            "colorbar": {
             "outlinewidth": 0,
             "ticks": ""
            },
            "colorscale": [
             [
              0,
              "#0d0887"
             ],
             [
              0.1111111111111111,
              "#46039f"
             ],
             [
              0.2222222222222222,
              "#7201a8"
             ],
             [
              0.3333333333333333,
              "#9c179e"
             ],
             [
              0.4444444444444444,
              "#bd3786"
             ],
             [
              0.5555555555555556,
              "#d8576b"
             ],
             [
              0.6666666666666666,
              "#ed7953"
             ],
             [
              0.7777777777777778,
              "#fb9f3a"
             ],
             [
              0.8888888888888888,
              "#fdca26"
             ],
             [
              1,
              "#f0f921"
             ]
            ],
            "type": "heatmapgl"
           }
          ],
          "histogram": [
           {
            "marker": {
             "pattern": {
              "fillmode": "overlay",
              "size": 10,
              "solidity": 0.2
             }
            },
            "type": "histogram"
           }
          ],
          "histogram2d": [
           {
            "colorbar": {
             "outlinewidth": 0,
             "ticks": ""
            },
            "colorscale": [
             [
              0,
              "#0d0887"
             ],
             [
              0.1111111111111111,
              "#46039f"
             ],
             [
              0.2222222222222222,
              "#7201a8"
             ],
             [
              0.3333333333333333,
              "#9c179e"
             ],
             [
              0.4444444444444444,
              "#bd3786"
             ],
             [
              0.5555555555555556,
              "#d8576b"
             ],
             [
              0.6666666666666666,
              "#ed7953"
             ],
             [
              0.7777777777777778,
              "#fb9f3a"
             ],
             [
              0.8888888888888888,
              "#fdca26"
             ],
             [
              1,
              "#f0f921"
             ]
            ],
            "type": "histogram2d"
           }
          ],
          "histogram2dcontour": [
           {
            "colorbar": {
             "outlinewidth": 0,
             "ticks": ""
            },
            "colorscale": [
             [
              0,
              "#0d0887"
             ],
             [
              0.1111111111111111,
              "#46039f"
             ],
             [
              0.2222222222222222,
              "#7201a8"
             ],
             [
              0.3333333333333333,
              "#9c179e"
             ],
             [
              0.4444444444444444,
              "#bd3786"
             ],
             [
              0.5555555555555556,
              "#d8576b"
             ],
             [
              0.6666666666666666,
              "#ed7953"
             ],
             [
              0.7777777777777778,
              "#fb9f3a"
             ],
             [
              0.8888888888888888,
              "#fdca26"
             ],
             [
              1,
              "#f0f921"
             ]
            ],
            "type": "histogram2dcontour"
           }
          ],
          "mesh3d": [
           {
            "colorbar": {
             "outlinewidth": 0,
             "ticks": ""
            },
            "type": "mesh3d"
           }
          ],
          "parcoords": [
           {
            "line": {
             "colorbar": {
              "outlinewidth": 0,
              "ticks": ""
             }
            },
            "type": "parcoords"
           }
          ],
          "pie": [
           {
            "automargin": true,
            "type": "pie"
           }
          ],
          "scatter": [
           {
            "fillpattern": {
             "fillmode": "overlay",
             "size": 10,
             "solidity": 0.2
            },
            "type": "scatter"
           }
          ],
          "scatter3d": [
           {
            "line": {
             "colorbar": {
              "outlinewidth": 0,
              "ticks": ""
             }
            },
            "marker": {
             "colorbar": {
              "outlinewidth": 0,
              "ticks": ""
             }
            },
            "type": "scatter3d"
           }
          ],
          "scattercarpet": [
           {
            "marker": {
             "colorbar": {
              "outlinewidth": 0,
              "ticks": ""
             }
            },
            "type": "scattercarpet"
           }
          ],
          "scattergeo": [
           {
            "marker": {
             "colorbar": {
              "outlinewidth": 0,
              "ticks": ""
             }
            },
            "type": "scattergeo"
           }
          ],
          "scattergl": [
           {
            "marker": {
             "colorbar": {
              "outlinewidth": 0,
              "ticks": ""
             }
            },
            "type": "scattergl"
           }
          ],
          "scattermapbox": [
           {
            "marker": {
             "colorbar": {
              "outlinewidth": 0,
              "ticks": ""
             }
            },
            "type": "scattermapbox"
           }
          ],
          "scatterpolar": [
           {
            "marker": {
             "colorbar": {
              "outlinewidth": 0,
              "ticks": ""
             }
            },
            "type": "scatterpolar"
           }
          ],
          "scatterpolargl": [
           {
            "marker": {
             "colorbar": {
              "outlinewidth": 0,
              "ticks": ""
             }
            },
            "type": "scatterpolargl"
           }
          ],
          "scatterternary": [
           {
            "marker": {
             "colorbar": {
              "outlinewidth": 0,
              "ticks": ""
             }
            },
            "type": "scatterternary"
           }
          ],
          "surface": [
           {
            "colorbar": {
             "outlinewidth": 0,
             "ticks": ""
            },
            "colorscale": [
             [
              0,
              "#0d0887"
             ],
             [
              0.1111111111111111,
              "#46039f"
             ],
             [
              0.2222222222222222,
              "#7201a8"
             ],
             [
              0.3333333333333333,
              "#9c179e"
             ],
             [
              0.4444444444444444,
              "#bd3786"
             ],
             [
              0.5555555555555556,
              "#d8576b"
             ],
             [
              0.6666666666666666,
              "#ed7953"
             ],
             [
              0.7777777777777778,
              "#fb9f3a"
             ],
             [
              0.8888888888888888,
              "#fdca26"
             ],
             [
              1,
              "#f0f921"
             ]
            ],
            "type": "surface"
           }
          ],
          "table": [
           {
            "cells": {
             "fill": {
              "color": "#EBF0F8"
             },
             "line": {
              "color": "white"
             }
            },
            "header": {
             "fill": {
              "color": "#C8D4E3"
             },
             "line": {
              "color": "white"
             }
            },
            "type": "table"
           }
          ]
         },
         "layout": {
          "annotationdefaults": {
           "arrowcolor": "#2a3f5f",
           "arrowhead": 0,
           "arrowwidth": 1
          },
          "autotypenumbers": "strict",
          "coloraxis": {
           "colorbar": {
            "outlinewidth": 0,
            "ticks": ""
           }
          },
          "colorscale": {
           "diverging": [
            [
             0,
             "#8e0152"
            ],
            [
             0.1,
             "#c51b7d"
            ],
            [
             0.2,
             "#de77ae"
            ],
            [
             0.3,
             "#f1b6da"
            ],
            [
             0.4,
             "#fde0ef"
            ],
            [
             0.5,
             "#f7f7f7"
            ],
            [
             0.6,
             "#e6f5d0"
            ],
            [
             0.7,
             "#b8e186"
            ],
            [
             0.8,
             "#7fbc41"
            ],
            [
             0.9,
             "#4d9221"
            ],
            [
             1,
             "#276419"
            ]
           ],
           "sequential": [
            [
             0,
             "#0d0887"
            ],
            [
             0.1111111111111111,
             "#46039f"
            ],
            [
             0.2222222222222222,
             "#7201a8"
            ],
            [
             0.3333333333333333,
             "#9c179e"
            ],
            [
             0.4444444444444444,
             "#bd3786"
            ],
            [
             0.5555555555555556,
             "#d8576b"
            ],
            [
             0.6666666666666666,
             "#ed7953"
            ],
            [
             0.7777777777777778,
             "#fb9f3a"
            ],
            [
             0.8888888888888888,
             "#fdca26"
            ],
            [
             1,
             "#f0f921"
            ]
           ],
           "sequentialminus": [
            [
             0,
             "#0d0887"
            ],
            [
             0.1111111111111111,
             "#46039f"
            ],
            [
             0.2222222222222222,
             "#7201a8"
            ],
            [
             0.3333333333333333,
             "#9c179e"
            ],
            [
             0.4444444444444444,
             "#bd3786"
            ],
            [
             0.5555555555555556,
             "#d8576b"
            ],
            [
             0.6666666666666666,
             "#ed7953"
            ],
            [
             0.7777777777777778,
             "#fb9f3a"
            ],
            [
             0.8888888888888888,
             "#fdca26"
            ],
            [
             1,
             "#f0f921"
            ]
           ]
          },
          "colorway": [
           "#636efa",
           "#EF553B",
           "#00cc96",
           "#ab63fa",
           "#FFA15A",
           "#19d3f3",
           "#FF6692",
           "#B6E880",
           "#FF97FF",
           "#FECB52"
          ],
          "font": {
           "color": "#2a3f5f"
          },
          "geo": {
           "bgcolor": "white",
           "lakecolor": "white",
           "landcolor": "white",
           "showlakes": true,
           "showland": true,
           "subunitcolor": "#C8D4E3"
          },
          "hoverlabel": {
           "align": "left"
          },
          "hovermode": "closest",
          "mapbox": {
           "style": "light"
          },
          "paper_bgcolor": "white",
          "plot_bgcolor": "white",
          "polar": {
           "angularaxis": {
            "gridcolor": "#EBF0F8",
            "linecolor": "#EBF0F8",
            "ticks": ""
           },
           "bgcolor": "white",
           "radialaxis": {
            "gridcolor": "#EBF0F8",
            "linecolor": "#EBF0F8",
            "ticks": ""
           }
          },
          "scene": {
           "xaxis": {
            "backgroundcolor": "white",
            "gridcolor": "#DFE8F3",
            "gridwidth": 2,
            "linecolor": "#EBF0F8",
            "showbackground": true,
            "ticks": "",
            "zerolinecolor": "#EBF0F8"
           },
           "yaxis": {
            "backgroundcolor": "white",
            "gridcolor": "#DFE8F3",
            "gridwidth": 2,
            "linecolor": "#EBF0F8",
            "showbackground": true,
            "ticks": "",
            "zerolinecolor": "#EBF0F8"
           },
           "zaxis": {
            "backgroundcolor": "white",
            "gridcolor": "#DFE8F3",
            "gridwidth": 2,
            "linecolor": "#EBF0F8",
            "showbackground": true,
            "ticks": "",
            "zerolinecolor": "#EBF0F8"
           }
          },
          "shapedefaults": {
           "line": {
            "color": "#2a3f5f"
           }
          },
          "ternary": {
           "aaxis": {
            "gridcolor": "#DFE8F3",
            "linecolor": "#A2B1C6",
            "ticks": ""
           },
           "baxis": {
            "gridcolor": "#DFE8F3",
            "linecolor": "#A2B1C6",
            "ticks": ""
           },
           "bgcolor": "white",
           "caxis": {
            "gridcolor": "#DFE8F3",
            "linecolor": "#A2B1C6",
            "ticks": ""
           }
          },
          "title": {
           "x": 0.05
          },
          "xaxis": {
           "automargin": true,
           "gridcolor": "#EBF0F8",
           "linecolor": "#EBF0F8",
           "ticks": "",
           "title": {
            "standoff": 15
           },
           "zerolinecolor": "#EBF0F8",
           "zerolinewidth": 2
          },
          "yaxis": {
           "automargin": true,
           "gridcolor": "#EBF0F8",
           "linecolor": "#EBF0F8",
           "ticks": "",
           "title": {
            "standoff": 15
           },
           "zerolinecolor": "#EBF0F8",
           "zerolinewidth": 2
          }
         }
        },
        "title": {
         "font": {
          "color": "black",
          "size": 24
         },
         "text": "Small intestine vs. (Pancreas & Others)",
         "x": 0.5,
         "xanchor": "center"
        },
        "width": 800,
        "xaxis": {
         "gridcolor": "lightgray",
         "range": [
          -0.01,
          1.02
         ],
         "showgrid": true,
         "tickfont": {
          "size": 14
         },
         "title": {
          "font": {
           "size": 18
          },
          "text": "False Positive Rate"
         },
         "zeroline": true,
         "zerolinecolor": "lightgray",
         "zerolinewidth": 1
        },
        "yaxis": {
         "gridcolor": "lightgray",
         "range": [
          -0.01,
          1.02
         ],
         "showgrid": true,
         "tickfont": {
          "size": 14
         },
         "title": {
          "font": {
           "size": 18
          },
          "text": "True Positive Rate"
         },
         "zeroline": true,
         "zerolinecolor": "lightgray",
         "zerolinewidth": 1
        }
       }
      }
     },
     "metadata": {},
     "output_type": "display_data"
    }
   ],
   "source": [
    "for origin in range(2):\n",
    "    true_pos_rates = []\n",
    "    false_pos_rates = []\n",
    "    for i in range(y_pred_patient_level_complete.shape[1]):\n",
    "        # Initialize confusion matrix components\n",
    "        true_pos, false_pos, true_neg, false_neg = 0, 0, 0, 0\n",
    "\n",
    "        for j in range(y_pred_patient_level_complete.shape[0]):\n",
    "            true_label = y_true_patient_level_complete[j]\n",
    "            pred_label = y_pred_patient_level_complete[j][i]\n",
    "\n",
    "            # Update confusion matrix counts\n",
    "            if true_label == origin:\n",
    "                if pred_label == origin:\n",
    "                    true_pos += 1\n",
    "                else:\n",
    "                    false_neg += 1\n",
    "            else:\n",
    "                if pred_label == origin:\n",
    "                    false_pos += 1\n",
    "                else:\n",
    "                    true_neg += 1\n",
    "\n",
    "        # Compute rates while avoiding division by zero\n",
    "        tpr = true_pos / (true_pos + false_neg) \n",
    "        fpr = false_pos / (true_neg + false_pos)\n",
    "\n",
    "        true_pos_rates.append(tpr)\n",
    "        false_pos_rates.append(fpr)\n",
    "\n",
    "    \n",
    "    fig = go.Figure()\n",
    "\n",
    "    fig.add_trace(go.Scatter(\n",
    "        x=false_pos_rates,\n",
    "        y=true_pos_rates,\n",
    "        mode='markers',\n",
    "        line=dict(color='blue', width=3),\n",
    "        marker=dict(size=10, color='blue', symbol='circle')\n",
    "    ))\n",
    "\n",
    "    titles = {0: \"Pancreas vs. (Small Intestine & Others)\",\n",
    "              1: \"Small intestine vs. (Pancreas & Others)\"}\n",
    "    fig.update_layout(\n",
    "        title=dict(\n",
    "            text=titles[origin],\n",
    "            x=0.5,\n",
    "            xanchor='center',\n",
    "            font=dict(size=24, color='black')\n",
    "        ),\n",
    "        xaxis=dict(\n",
    "            title=\"False Positive Rate\",\n",
    "            range=[-0.01, 1.02],\n",
    "            gridcolor='lightgray',\n",
    "            title_font=dict(size=18),\n",
    "            tickfont=dict(size=14)\n",
    "        ),\n",
    "        yaxis=dict(\n",
    "            title=\"True Positive Rate\",\n",
    "            range=[-0.01, 1.02],\n",
    "            gridcolor='lightgray',\n",
    "            title_font=dict(size=18),\n",
    "            tickfont=dict(size=14)\n",
    "        ),\n",
    "        legend=dict(\n",
    "            x=0.7, y=0.2,\n",
    "            bgcolor='rgba(255, 255, 255, 0.7)',\n",
    "            bordercolor='black',\n",
    "            borderwidth=1,\n",
    "            font=dict(size=14)\n",
    "        ),\n",
    "        template='plotly_white',\n",
    "        width=800,\n",
    "        height=600\n",
    "    )\n",
    "    \n",
    "    fig.update_xaxes(showgrid=True, zeroline=True, zerolinewidth=1, zerolinecolor='lightgray')\n",
    "    fig.update_yaxes(showgrid=True, zeroline=True, zerolinewidth=1, zerolinecolor='lightgray')\n",
    "\n",
    "    fig.show(dpi=500)\n"
   ]
  }
 ],
 "metadata": {
  "kernelspec": {
   "display_name": ".venv",
   "language": "python",
   "name": "python3"
  },
  "language_info": {
   "codemirror_mode": {
    "name": "ipython",
    "version": 3
   },
   "file_extension": ".py",
   "mimetype": "text/x-python",
   "name": "python",
   "nbconvert_exporter": "python",
   "pygments_lexer": "ipython3",
   "version": "3.9.6"
  }
 },
 "nbformat": 4,
 "nbformat_minor": 2
}
