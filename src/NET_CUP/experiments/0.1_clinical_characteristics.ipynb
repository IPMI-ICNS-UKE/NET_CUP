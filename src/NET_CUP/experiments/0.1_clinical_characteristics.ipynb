{
 "cells": [
  {
   "cell_type": "markdown",
   "metadata": {},
   "source": [
    "Notebook to obtain patient, e-number and slide statistics"
   ]
  },
  {
   "cell_type": "markdown",
   "metadata": {},
   "source": [
    "Imports"
   ]
  },
  {
   "cell_type": "code",
   "execution_count": 1,
   "metadata": {},
   "outputs": [],
   "source": [
    "# Local dependencies\n",
    "from NET_CUP.data_loading.data_tree import ENumber, Slide, DataTree\n",
    "from NET_CUP.data_loading.feature_type import FeatureType\n",
    "from NET_CUP.data_loading import data_tree\n",
    "import NET_CUP.datasources_config as datasources_config\n",
    "\n",
    "# Other dependencies\n",
    "import pandas as pd\n",
    "from anytree import findall"
   ]
  },
  {
   "cell_type": "markdown",
   "metadata": {},
   "source": [
    "Functions"
   ]
  },
  {
   "cell_type": "code",
   "execution_count": 2,
   "metadata": {},
   "outputs": [],
   "source": [
    "def print_info(data: DataTree) -> None:\n",
    "    # Patient level info\n",
    "    print('##### Patient info #####')\n",
    "    patients = data_tree.get_patients(data, 'pio')\n",
    "    sex = {'m': 0, 'f': 0}\n",
    "    origin = {origin: 0 for origin in data_tree.Origin}\n",
    "    age = []\n",
    "\n",
    "    for patient in patients:\n",
    "        sex[patient.sex] = sex[patient.sex] + 1\n",
    "        origin[patient.origin] = origin[patient.origin] + 1\n",
    "        age.append(patient.init_diagn - patient.birthdate)\n",
    "\n",
    "    age = pd.Series(age)\n",
    "        \n",
    "    print(origin)\n",
    "    print(sex)\n",
    "    print(age.mean(), age.std())\n",
    "    print()\n",
    "\n",
    "    # Enumber level info\n",
    "    enumbers = findall(data, filter_=lambda node: isinstance(node, ENumber) and node.parent in patients)\n",
    "    biopsy_enumbers = [enumber for enumber in enumbers if enumber.biopsy]\n",
    "    resection_enumbers = [enumber for enumber in enumbers if not enumber.biopsy]\n",
    "\n",
    "    print('##### Enumber info #####')\n",
    "    print('Amount of enumbers: ' + str(len(enumbers)))\n",
    "    print('Amount of biopsy enumbers: ' + str(len(biopsy_enumbers)))\n",
    "    print('Amount of resection enumbers: ' + str(len(resection_enumbers)))\n",
    "    print()\n",
    "\n",
    "    # Slide level info\n",
    "    slides = findall(data, filter_=lambda node: isinstance(node, Slide) and node.parent.parent in patients)\n",
    "    biopsy_slides = [slide for slide in slides if slide.parent.biopsy]\n",
    "    resection_slides = [slide for slide in slides if not slide.parent.biopsy]\n",
    "\n",
    "    print('##### Slide info #####')\n",
    "    print('Amount of slides: ' + str(len(slides)))\n",
    "    print('Amount of biopsy slides: ' + str(len(biopsy_slides)))\n",
    "    print('Amount of resection slides: ' + str(len(resection_slides)))\n",
    "    print()\n"
   ]
  },
  {
   "cell_type": "markdown",
   "metadata": {},
   "source": [
    "UKE data"
   ]
  },
  {
   "cell_type": "code",
   "execution_count": 3,
   "metadata": {},
   "outputs": [
    {
     "name": "stdout",
     "output_type": "stream",
     "text": [
      "##### Patient info #####\n",
      "{<Origin.PANCREAS: 0>: 40, <Origin.SI: 1>: 51, <Origin.OTHER: 2>: 8, <Origin.CUP: 3>: 0}\n",
      "{'m': 59, 'f': 40}\n",
      "20739 days 04:21:49.090909184 5077 days 15:00:17.358404736\n",
      "\n",
      "##### Enumber info #####\n",
      "Amount of enumbers: 142\n",
      "Amount of biopsy enumbers: 39\n",
      "Amount of resection enumbers: 103\n",
      "\n",
      "##### Slide info #####\n",
      "Amount of slides: 270\n",
      "Amount of biopsy slides: 51\n",
      "Amount of resection slides: 219\n",
      "\n"
     ]
    }
   ],
   "source": [
    "uke_data = data_tree.create_tree(datasources_config.PATIENTS_PATH,\n",
    "                             datasources_config.ENUMBER_PATH)\n",
    "data_tree.drop_slides_without_extracted_features(uke_data, FeatureType.MTDP, datasources_config.UKE_DATASET_DIR)\n",
    "\n",
    "print_info(uke_data)"
   ]
  },
  {
   "cell_type": "markdown",
   "metadata": {},
   "source": [
    "External data"
   ]
  },
  {
   "cell_type": "code",
   "execution_count": 4,
   "metadata": {},
   "outputs": [
    {
     "name": "stdout",
     "output_type": "stream",
     "text": [
      "##### Patient info #####\n",
      "{<Origin.PANCREAS: 0>: 4, <Origin.SI: 1>: 5, <Origin.OTHER: 2>: 2, <Origin.CUP: 3>: 0}\n",
      "{'m': 3, 'f': 8}\n",
      "15106 days 17:27:16.363636480 3896 days 20:53:23.710549056\n",
      "\n",
      "##### Enumber info #####\n",
      "Amount of enumbers: 11\n",
      "Amount of biopsy enumbers: 10\n",
      "Amount of resection enumbers: 1\n",
      "\n",
      "##### Slide info #####\n",
      "Amount of slides: 19\n",
      "Amount of biopsy slides: 18\n",
      "Amount of resection slides: 1\n",
      "\n"
     ]
    }
   ],
   "source": [
    "external_data = data_tree.create_tree(datasources_config.PATIENTS_PATH,\n",
    "                             datasources_config.ENUMBER_PATH)\n",
    "data_tree.drop_slides_without_extracted_features(external_data, FeatureType.MTDP, datasources_config.EXTERNAL_DATASET_DIR)\n",
    "\n",
    "print_info(external_data)"
   ]
  }
 ],
 "metadata": {
  "kernelspec": {
   "display_name": ".venv",
   "language": "python",
   "name": "python3"
  },
  "language_info": {
   "codemirror_mode": {
    "name": "ipython",
    "version": 3
   },
   "file_extension": ".py",
   "mimetype": "text/x-python",
   "name": "python",
   "nbconvert_exporter": "python",
   "pygments_lexer": "ipython3",
   "version": "3.9.6"
  }
 },
 "nbformat": 4,
 "nbformat_minor": 2
}
