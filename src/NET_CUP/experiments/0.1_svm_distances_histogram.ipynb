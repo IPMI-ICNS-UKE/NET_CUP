{
 "cells": [
  {
   "cell_type": "markdown",
   "metadata": {},
   "source": [
    "Notebook to create figure 3. The exact figure obtained when running this notebook depends on the random train-test-split."
   ]
  },
  {
   "cell_type": "markdown",
   "metadata": {},
   "source": [
    "Imports"
   ]
  },
  {
   "cell_type": "code",
   "execution_count": null,
   "metadata": {},
   "outputs": [],
   "source": [
    "# Local dependencies\n",
    "from NET_CUP.data_loading.feature_type import FeatureType\n",
    "from NET_CUP.data_loading import data_tree, xyp\n",
    "import NET_CUP.datasources_config as datasources_config\n",
    "\n",
    "# Other dependencies\n",
    "from sklearn.decomposition import PCA\n",
    "from sklearn.svm import SVC\n",
    "from sklearn.model_selection import train_test_split\n",
    "import plotly.graph_objects as go\n",
    "import plotly.subplots as sp"
   ]
  },
  {
   "cell_type": "markdown",
   "metadata": {},
   "source": [
    "Settings"
   ]
  },
  {
   "cell_type": "code",
   "execution_count": null,
   "metadata": {},
   "outputs": [],
   "source": [
    "# Adjust these settings\n",
    "feature_type = FeatureType.RETCCL\n",
    "classifier = SVC(kernel='rbf')\n",
    "\n",
    "# Keep these settings\n",
    "pca = PCA(0.95)\n",
    "patches_per_patient = 100\n",
    "patch_size = 4096\n",
    "border_patches = True"
   ]
  },
  {
   "cell_type": "markdown",
   "metadata": {},
   "source": [
    "Load data"
   ]
  },
  {
   "cell_type": "code",
   "execution_count": null,
   "metadata": {},
   "outputs": [],
   "source": [
    "data = data_tree.create_tree(datasources_config.PATIENTS_PATH,\n",
    "                             datasources_config.ENUMBER_PATH)\n",
    "data_tree.drop_slides_without_extracted_features(data, feature_type, datasources_config.UKE_DATASET_DIR)\n",
    "pancreas_intestine_patients = data_tree.get_patients(data, 'pi')\n",
    "others_patients = data_tree.get_patients(data, 'o')\n",
    "\n",
    "train_patients, test_patients =  train_test_split(pancreas_intestine_patients, train_size=0.4, stratify=xyp.get_patient_level_y(pancreas_intestine_patients))\n",
    "test_patients = test_patients + others_patients\n"
   ]
  },
  {
   "cell_type": "markdown",
   "metadata": {},
   "source": [
    "Classifier training"
   ]
  },
  {
   "cell_type": "code",
   "execution_count": null,
   "metadata": {},
   "outputs": [],
   "source": [
    "X_train_patch_level, y_train_patch_level, _ = xyp.get_patch_level_Xyp_complete(train_patients, patches_per_patient, feature_type, patch_size, border_patches, datasources_config.UKE_DATASET_DIR)\n",
    "\n",
    "X_train_patch_level = pca.fit_transform(X_train_patch_level)\n",
    "classifier.fit(X_train_patch_level, y_train_patch_level)"
   ]
  },
  {
   "cell_type": "markdown",
   "metadata": {},
   "source": [
    "Calculating patch distances and sum of all patch distances for each the test patiens"
   ]
  },
  {
   "cell_type": "code",
   "execution_count": null,
   "metadata": {},
   "outputs": [],
   "source": [
    "patch_distances = {data_tree.Origin.PANCREAS: [],\n",
    "                   data_tree.Origin.SI: [],\n",
    "                   data_tree.Origin.OTHER: []}\n",
    "\n",
    "patient_sum_patch_distances = {data_tree.Origin.PANCREAS: [],\n",
    "                               data_tree.Origin.SI: [],\n",
    "                               data_tree.Origin.OTHER: []}\n",
    "\n",
    "for test_patient in test_patients:\n",
    "    X_test_patch_level, _, _ = xyp.get_patch_level_Xyp_complete([test_patient], patches_per_patient, feature_type, patch_size, border_patches, datasources_config.UKE_DATASET_DIR)\n",
    "    test_patient_patch_distances = classifier.decision_function(pca.transform(X_test_patch_level))\n",
    "\n",
    "    patch_distances[test_patient.origin].extend(test_patient_patch_distances)\n",
    "    patient_sum_patch_distances[test_patient.origin].append(sum(test_patient_patch_distances))\n"
   ]
  },
  {
   "cell_type": "markdown",
   "metadata": {},
   "source": [
    "Visualization"
   ]
  },
  {
   "cell_type": "code",
   "execution_count": null,
   "metadata": {},
   "outputs": [],
   "source": [
    "fig = sp.make_subplots(rows=1, cols=2, subplot_titles=[\n",
    "                       'Patch distances', 'Sum of all patch distances for each patient'], horizontal_spacing=0.15)\n",
    "\n",
    "xbins_patch_level = dict(start=-15, end=15, size=0.2)\n",
    "fig.add_trace(go.Histogram(x=patch_distances[data_tree.Origin.PANCREAS], xbins=xbins_patch_level, autobinx=False, marker={\n",
    "              'color': '#6C8EBF', 'opacity': 0.6}, name='Pancreas'), row=1, col=1)\n",
    "fig.add_trace(go.Histogram(x=patch_distances[data_tree.Origin.SI], xbins=xbins_patch_level, autobinx=False, marker={\n",
    "              'color': '#D79B01', 'opacity': 0.8}, name='Small intestine'), row=1, col=1)\n",
    "fig.add_trace(go.Histogram(x=patch_distances[data_tree.Origin.OTHER], xbins=xbins_patch_level, autobinx=False, marker={\n",
    "              'color': '#81B366', 'opacity': 0.8}, name='Others'), row=1, col=1)\n",
    "\n",
    "xbins_patient_level = dict(start=-500, end=500, size=50)\n",
    "fig.add_trace(go.Histogram(x=patient_sum_patch_distances[data_tree.Origin.PANCREAS], xbins=xbins_patient_level, autobinx=False, marker={\n",
    "              'color': '#6C8EBF', 'opacity': 0.65}, showlegend=False), row=1, col=2)\n",
    "fig.add_trace(go.Histogram(x=patient_sum_patch_distances[data_tree.Origin.SI], xbins=xbins_patient_level, autobinx=False, marker={\n",
    "              'color': '#D79B01', 'opacity': 0.65}, showlegend=False), row=1, col=2)\n",
    "fig.add_trace(go.Histogram(x=patient_sum_patch_distances[data_tree.Origin.OTHER], xbins=xbins_patient_level, autobinx=False, marker={\n",
    "              'color': '#81B366', 'opacity': 0.7}, showlegend=False), row=1, col=2)\n",
    "\n",
    "fig.update_xaxes(showline=True, linecolor='black', gridcolor='lightgrey')\n",
    "fig.update_yaxes(showline=True, linecolor='black', gridcolor='lightgrey')\n",
    "\n",
    "# Overlay both histograms\n",
    "fig.update_layout(barmode='overlay', plot_bgcolor='white', font=dict(color='black'),\n",
    "                  xaxis_title='Distance from the SVM hyperplane', xaxis2_title='Sum of patch distances from the SVM hyperplane',\n",
    "                  yaxis_title='Number of patches', yaxis2_title='Number of patients',\n",
    "                  margin=dict(l=100, r=100, t=70, b=70), height=402, width=1102)\n",
    "fig.update_traces(marker_line_width=0.5, marker_line_color=\"black\")\n",
    "\n",
    "fig.add_annotation(xref='x domain',\n",
    "                   yref='y domain',\n",
    "                   x=-0.2,\n",
    "                   y=1.2,\n",
    "                   text='A',\n",
    "                   font=dict(size=30),\n",
    "                   showarrow=False,\n",
    "                   row=1, col=1)\n",
    "\n",
    "fig.add_annotation(xref='x domain',\n",
    "                   yref='y domain',\n",
    "                   x=-0.2,\n",
    "                   y=1.2,\n",
    "                   text='B',\n",
    "                   font=dict(size=30),\n",
    "                   showarrow=False,\n",
    "                   row=1, col=2)\n",
    "\n",
    "fig.show()"
   ]
  }
 ],
 "metadata": {
  "kernelspec": {
   "display_name": ".venv",
   "language": "python",
   "name": "python3"
  },
  "language_info": {
   "codemirror_mode": {
    "name": "ipython",
    "version": 3
   },
   "file_extension": ".py",
   "mimetype": "text/x-python",
   "name": "python",
   "nbconvert_exporter": "python",
   "pygments_lexer": "ipython3",
   "version": "3.9.6"
  }
 },
 "nbformat": 4,
 "nbformat_minor": 2
}
